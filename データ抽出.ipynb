{
 "cells": [
  {
   "cell_type": "code",
   "execution_count": 1,
   "metadata": {
    "collapsed": true
   },
   "outputs": [],
   "source": [
    "#データの読み込み\n",
    "import numpy as np\n",
    "import pandas as pd \n",
    "from config import Config"
   ]
  },
  {
   "cell_type": "markdown",
   "metadata": {},
   "source": [
    "<head>\n",
    "<h1>目次</h1>\n",
    "</head>\n",
    "<body>\n",
    "<p><h4>1.データの抽出</h4></p>\n",
    "<p><h4>2.データ品質の確認</h4><p>\n",
    "<h1></h1>\n",
    "</body>"
   ]
  },
  {
   "cell_type": "markdown",
   "metadata": {},
   "source": [
    "<head>\n",
    "    <b>1.データ抽出</b>\n",
    "    <base href=\"C:\\Users\\dso-s.gao\\Desktop￥\" > \n",
    "</head>\n",
    "<body>\n",
    "    <p><b>目的：サンプル走行データの読み込み。pandasデータフレームにする</b></p>\n",
    "    <hr />\n",
    "    <p></p>\n",
    "</body>"
   ]
  },
  {
   "cell_type": "code",
   "execution_count": 34,
   "metadata": {},
   "outputs": [],
   "source": [
    "#dataの保存先絶対パスを取得\n",
    "opt = Config()\n",
    "data_path_aions = getattr(opt, \"data_path_aions\")\n",
    "data_path_gs3 = getattr(opt, \"data_path_gs3\")\n",
    "data_path_gs4 = getattr(opt, \"data_path_gs4\")"
   ]
  },
  {
   "cell_type": "code",
   "execution_count": 63,
   "metadata": {},
   "outputs": [],
   "source": [
    "#走行データ読み込み。データフレームにする\n",
    "def readtable(abspath, headerpath=\"gs3_head.txt\"):\n",
    "    \n",
    "    \"\"\"\n",
    "    path:データの保存先の絶対パス\n",
    "    \"\"\"\n",
    "    data = pd.read_table(abspath + \"/all.txt\", header=None)\n",
    "    \n",
    "    if headerpath:\n",
    "        with open(abspath +  headerpath) as f:\n",
    "            header = f.read()\n",
    "            header = [i.strip() for i in header.split(\",\")]\n",
    "        data.columns = header \n",
    "    return data "
   ]
  },
  {
   "cell_type": "code",
   "execution_count": 55,
   "metadata": {
    "collapsed": true
   },
   "outputs": [],
   "source": [
    "with open(data_path_gs4 +  \"gs4_head.txt\") as f:\n",
    "    header = f.read()\n",
    "    header = [i.strip() for i in header.split(\",\")]"
   ]
  },
  {
   "cell_type": "code",
   "execution_count": 66,
   "metadata": {},
   "outputs": [],
   "source": [
    "gs3_data = readtable(data_path_gs3) #gs3の車データを読み込み\n",
    "gs4_data = readtable(data_path_gs4, headerpath=\"gs4_head.txt\") #gs4の車データを読み込み"
   ]
  },
  {
   "cell_type": "markdown",
   "metadata": {},
   "source": [
    "<head>\n",
    "    <b>2.データ品質の確認</b>\n",
    "    <base href=\"C:\\Users\\dso-s.gao\\Desktop￥\" > \n",
    "</head>\n",
    "<body>\n",
    "    <p><b>目的：サンプルデータの欠損率、異常値を確認</b></p>\n",
    "    <hr />\n",
    "    <p></p>\n",
    "</body>"
   ]
  },
  {
   "cell_type": "code",
   "execution_count": null,
   "metadata": {
    "collapsed": true
   },
   "outputs": [],
   "source": []
  }
 ],
 "metadata": {
  "kernelspec": {
   "display_name": "Python 3",
   "language": "python",
   "name": "python3"
  },
  "language_info": {
   "codemirror_mode": {
    "name": "ipython",
    "version": 3
   },
   "file_extension": ".py",
   "mimetype": "text/x-python",
   "name": "python",
   "nbconvert_exporter": "python",
   "pygments_lexer": "ipython3",
   "version": "3.5.3"
  }
 },
 "nbformat": 4,
 "nbformat_minor": 2
}
